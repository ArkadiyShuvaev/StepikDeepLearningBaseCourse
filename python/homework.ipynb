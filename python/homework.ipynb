{
 "cells": [
  {
   "attachments": {},
   "cell_type": "markdown",
   "metadata": {},
   "source": [
    "## Almost double factorial\n",
    "\n",
    "Given a natural number N⩽100 . Output the product of all odd positive integers not exceeding N."
   ]
  },
  {
   "cell_type": "code",
   "execution_count": 2,
   "metadata": {},
   "outputs": [
    {
     "name": "stdout",
     "output_type": "stream",
     "text": [
      "The sum of odd numbers that is not more than '25' is 25. The max odd value is '9'.\n"
     ]
    }
   ],
   "source": [
    "def get_max_odd_value(max_sum: int) -> tuple[int, int]:\n",
    "    \"\"\" The function calculates factorial for odd values and returns the max odd number for a given maximum amount.\n",
    "    \"\"\"\n",
    "    previous_sum = 0\n",
    "    for i in range(1, 101, 2):\n",
    "        intermediate_sum = previous_sum + i\n",
    "        if intermediate_sum <= max_sum:\n",
    "            previous_sum = intermediate_sum\n",
    "        else:\n",
    "            previous_value = i - 2\n",
    "            return (previous_value, previous_sum)\n",
    "\n",
    "max_sum = 25\n",
    "(max_odd_value, sum) = get_max_odd_value(max_sum)\n",
    "\n",
    "print(f\"The sum of odd numbers that is not more than '{max_sum}' is {sum}. The max odd value is '{max_odd_value}'.\")\n"
   ]
  }
 ],
 "metadata": {
  "kernelspec": {
   "display_name": "Python 3",
   "language": "python",
   "name": "python3"
  },
  "language_info": {
   "codemirror_mode": {
    "name": "ipython",
    "version": 3
   },
   "file_extension": ".py",
   "mimetype": "text/x-python",
   "name": "python",
   "nbconvert_exporter": "python",
   "pygments_lexer": "ipython3",
   "version": "3.9.2"
  },
  "orig_nbformat": 4,
  "vscode": {
   "interpreter": {
    "hash": "31f2aee4e71d21fbe5cf8b01ff0e069b9275f58929596ceb00d14d90e3e16cd6"
   }
  }
 },
 "nbformat": 4,
 "nbformat_minor": 2
}
