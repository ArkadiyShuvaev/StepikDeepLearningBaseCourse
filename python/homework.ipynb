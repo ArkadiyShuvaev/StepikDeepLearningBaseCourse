{
 "cells": [
  {
   "cell_type": "code",
   "execution_count": 1,
   "metadata": {},
   "outputs": [],
   "source": [
    "# Autoreload scripts\n",
    "%load_ext autoreload\n",
    "%autoreload 2"
   ]
  },
  {
   "attachments": {},
   "cell_type": "markdown",
   "metadata": {},
   "source": [
    "## Tricky sorting\n",
    "\n",
    "Suppose we have the following list, with items -- tuple of strings:\n",
    "\n",
    "items = [('one', 'two'), ('three', 'four'), ('five', 'six'), ('string', 'a')]\n",
    "\n",
    "We want to sort this list by the last letter of the second element of each tuple, i.e. get this list:\n",
    "\n",
    "sorted_items = [('string', 'a'), ('one', 'two'), ('three', 'four'), ('five', 'six')]. What should be inserted instead of \"###\" in the following expression to get sorted?\n",
    "\n",
    "sorted_items = sorted(items, key=lambda x: ###)"
   ]
  },
  {
   "cell_type": "code",
   "execution_count": 6,
   "metadata": {},
   "outputs": [
    {
     "name": "stdout",
     "output_type": "stream",
     "text": [
      "[('string', 'a'), ('one', 'two'), ('three', 'four'), ('five', 'six')]\n"
     ]
    }
   ],
   "source": [
    "# %load src/exercise_2.py\n",
    "def func(value):\n",
    "    second_item = value[1]\n",
    "    length = len(second_item)\n",
    "    last_symbol = second_item[length - 1:]\n",
    "    return last_symbol\n",
    "\n",
    "items = [('one', 'two'), ('three', 'four'), ('five', 'six'), ('string', 'a')]\n",
    "sorted_items = sorted(items, key = func)\n",
    "\n",
    "assert sorted_items == [('string', 'a'), ('one', 'two'), ('three', 'four'), ('five', 'six')], \\\n",
    "    \"Something is wrong! Please try again\"\n",
    "\n",
    "print(sorted_items)\n"
   ]
  },
  {
   "attachments": {},
   "cell_type": "markdown",
   "metadata": {},
   "source": [
    "## Almost double factorial\n",
    "\n",
    "Given a natural number N⩽100 . Output the product of all odd positive integers not exceeding N."
   ]
  },
  {
   "cell_type": "code",
   "execution_count": 5,
   "metadata": {},
   "outputs": [
    {
     "name": "stdout",
     "output_type": "stream",
     "text": [
      "7905853580625\n"
     ]
    }
   ],
   "source": [
    "# %load src/exercise_1.py\n",
    "def multiply_odd_values(N: int) -> tuple[int, int]:\n",
    "    \"\"\" Returns the multiplication of all odd natural numbers not exceeding N\n",
    "    \"\"\"\n",
    "    result = 1\n",
    "    for i in range(1, N + 1, 2):\n",
    "        result = result * i\n",
    "\n",
    "    return result\n",
    "\n",
    "N = 25\n",
    "N_double_fact = multiply_odd_values(N)\n",
    "\n",
    "assert N_double_fact == 7905853580625, \"Something is wrong! Please try again\"\n",
    "print(N_double_fact)"
   ]
  }
 ],
 "metadata": {
  "kernelspec": {
   "display_name": "Python 3",
   "language": "python",
   "name": "python3"
  },
  "language_info": {
   "codemirror_mode": {
    "name": "ipython",
    "version": 3
   },
   "file_extension": ".py",
   "mimetype": "text/x-python",
   "name": "python",
   "nbconvert_exporter": "python",
   "pygments_lexer": "ipython3",
   "version": "3.9.2"
  },
  "orig_nbformat": 4,
  "vscode": {
   "interpreter": {
    "hash": "31f2aee4e71d21fbe5cf8b01ff0e069b9275f58929596ceb00d14d90e3e16cd6"
   }
  }
 },
 "nbformat": 4,
 "nbformat_minor": 2
}
